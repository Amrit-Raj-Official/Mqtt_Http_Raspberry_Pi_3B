{
 "cells": [
  {
   "cell_type": "code",
   "execution_count": null,
   "metadata": {},
   "outputs": [],
   "source": [
    "import cv2\n",
    "import numpy as np\n",
    "import math\n",
    "import time\n"
   ]
  },
  {
   "cell_type": "code",
   "execution_count": null,
   "metadata": {},
   "outputs": [],
   "source": [
    "face_cascade = cv2.CascadeClassifier('C:/Users/AMRIT/Desktop/haarcascade_frontalface_default.xml')\n",
    "cap = cv2.VideoCapture(0)\n",
    "a,b,c,d,e,f,g,h,i,j,k,l,p=0,0,0,0,0,0,0,0,0,0,0,-1,0\n",
    "x,y,w,h=0,0,0,0\n",
    "while True:\n",
    "  ret, img = cap.read()\n",
    "  faces = face_cascade.detectMultiScale(img, 1.3, 5)\n",
    "  for (x, y, w, h) in faces:\n",
    "    circle=cv2.circle(img, (int((2*x+w)/2),int((2*y+h)/2)), 10,(255, 255, 255), -1)\n",
    "  cv2.imshow('img', img)\n",
    "  gray = cv2.cvtColor(img, cv2.COLOR_BGR2GRAY)\n",
    "  cv2.line(img,(0,160),(640,160),(255,0,0), 2)\n",
    "  cv2.line(img,(0,320),(640,320),(255,0,0), 2)\n",
    "  cv2.line(img,(160,0),(160,480),(255,0,0), 2)\n",
    "  cv2.line(img,(320,0),(320,480),(255,0,0), 2)\n",
    "  cv2.line(img,(480,0),(480,480),(255,0,0), 2)\n",
    "  cv2.imshow('img', img)\n",
    "  if int((2*x+w)/2) > 0 and int((2*x+w)/2) < 160:\n",
    "    if int((2*y+h)/2) > 0 and int((2*y+h)/2) < 160:\n",
    "      a=1\n",
    "  if int((2*x+w)/2) > 160 and int((2*x+w)/2) < 320:\n",
    "    if int((2*y+h)/2) > 0 and int((2*y+h)/2) < 160:\n",
    "      b=2\n",
    "  if int((2*x+w)/2) > 320 and int((2*x+w)/2) < 480:\n",
    "    if int((2*y+h)/2) > 0 and int((2*y+h)/2) < 160:\n",
    "      c=3\n",
    "  if int((2*x+w)/2) > 480 and int((2*x+w)/2) < 640:\n",
    "    if int((2*y+h)/2) > 0 and int((2*y+h)/2) < 160:\n",
    "      d=\"+\"\n",
    "    \n",
    "    \n",
    "  if int((2*x+w)/2) > 0 and int((2*x+w)/2) < 160:\n",
    "    if int((2*y+h)/2) > 160 and int((2*y+h)/2) < 320:\n",
    "      e=4\n",
    "  if int((2*x+w)/2) > 160 and int((2*x+w)/2) < 320:\n",
    "    if int((2*y+h)/2) > 160 and int((2*y+h)/2) < 320:\n",
    "      f=5\n",
    "  if int((2*x+w)/2) > 320 and int((2*x+w)/2) < 480:\n",
    "    if int((2*y+h)/2) > 160 and int((2*y+h)/2) < 320:\n",
    "      g=6\n",
    "  if int((2*x+w)/2) > 480 and int((2*x+w)/2) < 640:\n",
    "    if int((2*y+h)/2) > 160 and int((2*y+h)/2) < 320:\n",
    "      h=\"*\"\n",
    "    \n",
    "  if int((2*x+w)/2) > 0 and int((2*x+w)/2) < 160:\n",
    "    if int((2*y+h)/2) > 320 and int((2*y+h)/2) < 480:\n",
    "      i=7\n",
    "  if int((2*x+w)/2) > 160 and int((2*x+w)/2) < 320:\n",
    "    if int((2*y+h)/2) > 320 and int((2*y+h)/2) < 480:\n",
    "      j=8\n",
    "  if int((2*x+w)/2) > 320 and int((2*x+w)/2) < 480:\n",
    "    if int((2*y+h)/2) > 320 and int((2*y+h)/2) < 480:\n",
    "      k=9\n",
    "  if int((2*x+w)/2) > 320 and int((2*x+w)/2) < 640:\n",
    "    if int((2*y+h)/2) > 320 and int((2*y+h)/2) < 480:\n",
    "      l=0\n",
    "  esc = cv2.waitKey(1)\n",
    "  p=a+b+c+e+f+g+i+j+k+l\n",
    "  if esc == 13:\n",
    "    break\n",
    "print(p)\n",
    "cap.release()\n",
    "cv2.destroyAllWindows()"
   ]
  },
  {
   "cell_type": "code",
   "execution_count": null,
   "metadata": {},
   "outputs": [],
   "source": []
  },
  {
   "cell_type": "code",
   "execution_count": null,
   "metadata": {},
   "outputs": [],
   "source": []
  },
  {
   "cell_type": "code",
   "execution_count": null,
   "metadata": {},
   "outputs": [],
   "source": []
  }
 ],
 "metadata": {
  "kernelspec": {
   "display_name": "Python 3",
   "language": "python",
   "name": "python3"
  },
  "language_info": {
   "codemirror_mode": {
    "name": "ipython",
    "version": 3
   },
   "file_extension": ".py",
   "mimetype": "text/x-python",
   "name": "python",
   "nbconvert_exporter": "python",
   "pygments_lexer": "ipython3",
   "version": "3.7.0"
  }
 },
 "nbformat": 4,
 "nbformat_minor": 2
}
